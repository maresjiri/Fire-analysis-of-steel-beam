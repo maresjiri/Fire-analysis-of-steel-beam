{
 "cells": [
  {
   "cell_type": "markdown",
   "metadata": {},
   "source": [
    "# Fire analysis of steel beam"
   ]
  },
  {
   "cell_type": "code",
   "execution_count": 1,
   "metadata": {},
   "outputs": [],
   "source": [
    "import math"
   ]
  },
  {
   "cell_type": "markdown",
   "metadata": {},
   "source": [
    "Check the fire capacity of an unprotected simply supported steel beam in an office building. Beam is loaded by uniformly distributed load (UDL) and it's top flange is restrained against out of plane buckling by concrete slab."
   ]
  },
  {
   "cell_type": "code",
   "execution_count": 2,
   "metadata": {},
   "outputs": [],
   "source": [
    "span = 5.9  #[m]"
   ]
  },
  {
   "cell_type": "markdown",
   "metadata": {},
   "source": [
    "## Profile"
   ]
  },
  {
   "cell_type": "code",
   "execution_count": 3,
   "metadata": {},
   "outputs": [],
   "source": [
    "## IPE300\n",
    "h = 240 #300 #[mm]\n",
    "b = 120 #150 #[mm]\n",
    "tf = 15\n",
    "tw = 7.1\n",
    "Wply = 366600 # 628400 #[mm^4]\n",
    "Iy = 38910000 # 83560000 #[mm^6]\n",
    "Avz = 2568  #[mm^2]\n",
    "A = 3912 #5381 #[mm^2]"
   ]
  },
  {
   "cell_type": "markdown",
   "metadata": {},
   "source": [
    "## Material"
   ]
  },
  {
   "cell_type": "code",
   "execution_count": 4,
   "metadata": {},
   "outputs": [],
   "source": [
    "fy = 275  #[MPa]\n",
    "rho = 7850 #[kg/m^3]\n",
    "gammaM0 = 1.0\n",
    "E = 210000000000"
   ]
  },
  {
   "cell_type": "markdown",
   "metadata": {},
   "source": [
    "## Loading"
   ]
  },
  {
   "cell_type": "code",
   "execution_count": 5,
   "metadata": {},
   "outputs": [],
   "source": [
    "gammaG = 1.2\n",
    "gammaQ = 1.4\n",
    "psi11 = 0.5 # 0.3\n",
    "# permanent loading\n",
    "gk = 3.8 #[kN/m]\n",
    "# variable loading\n",
    "qk = 5.8 #[kN/m]\n",
    "vk = gk + qk\n",
    "vd = gammaG * gk + gammaQ * qk"
   ]
  },
  {
   "cell_type": "markdown",
   "metadata": {},
   "source": [
    "## Check at ambient temperature"
   ]
  },
  {
   "cell_type": "code",
   "execution_count": 6,
   "metadata": {},
   "outputs": [],
   "source": [
    "## Bending moment and shear force"
   ]
  },
  {
   "cell_type": "code",
   "execution_count": 7,
   "metadata": {},
   "outputs": [],
   "source": [
    "MEd = vd * span **2 / 8 "
   ]
  },
  {
   "cell_type": "code",
   "execution_count": 8,
   "metadata": {},
   "outputs": [],
   "source": [
    "VEd = vd * span / 2"
   ]
  },
  {
   "cell_type": "code",
   "execution_count": 9,
   "metadata": {},
   "outputs": [],
   "source": [
    "# Moment capacity at ambient temperature\n",
    "MplRd = Wply * fy / gammaM0"
   ]
  },
  {
   "cell_type": "code",
   "execution_count": 10,
   "metadata": {},
   "outputs": [],
   "source": [
    "# Shear capacity\n",
    "VplRd = 0.577 * Avz * fy / gammaM0"
   ]
  },
  {
   "cell_type": "code",
   "execution_count": 11,
   "metadata": {},
   "outputs": [],
   "source": [
    "# Check deflection \n",
    "delta = 5 / 384 * vk * span**4 / E / Iy"
   ]
  },
  {
   "cell_type": "code",
   "execution_count": 12,
   "metadata": {},
   "outputs": [
    {
     "name": "stdout",
     "output_type": "stream",
     "text": [
      "Moment capacity OK\n"
     ]
    }
   ],
   "source": [
    "if MEd <= MplRd:\n",
    "    print(\"Moment capacity OK\")\n",
    "else:\n",
    "    print(\"Moment capacity FAILs\")"
   ]
  },
  {
   "cell_type": "code",
   "execution_count": 13,
   "metadata": {},
   "outputs": [
    {
     "name": "stdout",
     "output_type": "stream",
     "text": [
      "Shear capacity OK\n"
     ]
    }
   ],
   "source": [
    "if VEd <= VplRd:\n",
    "    print(\"Shear capacity OK\")\n",
    "else:\n",
    "    print(\"Shear capacity FAILs\")"
   ]
  },
  {
   "cell_type": "code",
   "execution_count": 14,
   "metadata": {},
   "outputs": [
    {
     "name": "stdout",
     "output_type": "stream",
     "text": [
      "Deflection check OK\n"
     ]
    }
   ],
   "source": [
    "if delta <= span / 250:\n",
    "    print(\"Deflection check OK\")\n",
    "else:\n",
    "    print(\"Deflection check FAILs\")"
   ]
  },
  {
   "cell_type": "markdown",
   "metadata": {},
   "source": [
    "## Fire check"
   ]
  },
  {
   "cell_type": "code",
   "execution_count": 15,
   "metadata": {},
   "outputs": [],
   "source": [
    "# Load reduction coefficient"
   ]
  },
  {
   "cell_type": "code",
   "execution_count": 16,
   "metadata": {},
   "outputs": [],
   "source": [
    "ni_fi = (gk + psi11 * qk) / (gk * gammaG + qk * gammaQ)"
   ]
  },
  {
   "cell_type": "code",
   "execution_count": 17,
   "metadata": {},
   "outputs": [],
   "source": [
    "# Perimeter ratio"
   ]
  },
  {
   "cell_type": "code",
   "execution_count": 18,
   "metadata": {},
   "outputs": [],
   "source": [
    "Am_by_V_b = (2 * h + b) / A * 1000"
   ]
  },
  {
   "cell_type": "code",
   "execution_count": 19,
   "metadata": {},
   "outputs": [
    {
     "name": "stdout",
     "output_type": "stream",
     "text": [
      "Am_by_V_b  = 153.374\n"
     ]
    }
   ],
   "source": [
    "print (\"Am_by_V_b  = \" + \"%2.3f\" %  Am_by_V_b)"
   ]
  },
  {
   "cell_type": "code",
   "execution_count": 20,
   "metadata": {},
   "outputs": [],
   "source": [
    "# Shielding effect"
   ]
  },
  {
   "cell_type": "code",
   "execution_count": 21,
   "metadata": {},
   "outputs": [],
   "source": [
    "Am_by_V_sh = 0.9 * Am_by_V_b"
   ]
  },
  {
   "cell_type": "markdown",
   "metadata": {},
   "source": [
    "Fire resistance based on nominal fire curve (ISO 834)"
   ]
  },
  {
   "cell_type": "markdown",
   "metadata": {},
   "source": [
    "Steel beam is exposed to the fire from three sides and protected from the top by concrete slab. Uneven distribution of temperature is taken in to account by coefficient"
   ]
  },
  {
   "cell_type": "code",
   "execution_count": 22,
   "metadata": {},
   "outputs": [],
   "source": [
    "kappa1 = 0.7\n",
    "kappa2 = 1.0\n",
    "# where kappa2 expresses distribution of temperature along beam length. Cross section utilization ratio will be"
   ]
  },
  {
   "cell_type": "code",
   "execution_count": 23,
   "metadata": {},
   "outputs": [],
   "source": [
    "ni0 = ni_fi * kappa1 * kappa2\n",
    "ni0 = 0.202"
   ]
  },
  {
   "cell_type": "code",
   "execution_count": 24,
   "metadata": {},
   "outputs": [
    {
     "name": "stdout",
     "output_type": "stream",
     "text": [
      "ni_fi      = 0.528\n",
      "ni0        = 0.202\n"
     ]
    }
   ],
   "source": [
    "print (\"ni_fi      = \" + \"%2.3f\" %  ni_fi)\n",
    "print (\"ni0        = \" + \"%2.3f\" %  ni0)"
   ]
  },
  {
   "cell_type": "markdown",
   "metadata": {},
   "source": [
    "Critical temperature (based on Cl. 4.2.4 of EN1993-1-2:2005):"
   ]
  },
  {
   "cell_type": "code",
   "execution_count": 25,
   "metadata": {},
   "outputs": [],
   "source": [
    "# This is the critical temperature of the beam. We will be checking at what time is this temperature exceeded\n",
    "theta_a_cr = 39.19 * math.log((1 / 0.9674 / ni0**(3.833)) - 1) + 482"
   ]
  },
  {
   "cell_type": "code",
   "execution_count": 26,
   "metadata": {},
   "outputs": [
    {
     "name": "stdout",
     "output_type": "stream",
     "text": [
      "theta_a_cr = 723.48 °C\n"
     ]
    }
   ],
   "source": [
    "print (\"theta_a_cr = \" + \"%2.2f\" %  theta_a_cr + \" °C\")"
   ]
  },
  {
   "cell_type": "code",
   "execution_count": 27,
   "metadata": {},
   "outputs": [],
   "source": [
    "# init temperature\n",
    "theta_at = 20\n",
    "# init time\n",
    "t = 0\n",
    "# time increment [min]\n",
    "delta_t = 0.0833"
   ]
  },
  {
   "cell_type": "markdown",
   "metadata": {},
   "source": [
    "Fire resistance of unprotected steel beam can be determined as a time necessary to reach the critical temperature of a cross-section."
   ]
  },
  {
   "cell_type": "code",
   "execution_count": 28,
   "metadata": {},
   "outputs": [
    {
     "name": "stdout",
     "output_type": "stream",
     "text": [
      "Time[min]  theta_g[°C]   h_net_r     h_net_c     h_net_d    ca   delta_theta_at  theta_at[°C]\n",
      "0.00e+00   2.000e+01     0.000e+00   0.000e+00   0.00e+00   4.40e+02   0.00e+00     20.00\n",
      "8.33e-02   9.651e+01     4.474e+02   1.913e+03   2.36e+03   4.40e+02   7.86e-03     20.01\n",
      "1.67e-01   1.469e+02     9.415e+02   3.173e+03   4.11e+03   4.40e+02   2.74e-02     20.04\n",
      "2.50e-01   1.846e+02     1.447e+03   4.113e+03   5.56e+03   4.40e+02   5.56e-02     20.09\n",
      "3.33e-01   2.146e+02     1.951e+03   4.863e+03   6.81e+03   4.40e+02   9.08e-02     20.18\n",
      "4.16e-01   2.397e+02     2.448e+03   5.487e+03   7.94e+03   4.40e+02   1.32e-01     20.31\n",
      "5.00e-01   2.611e+02     2.936e+03   6.020e+03   8.96e+03   4.40e+02   1.79e-01     20.49\n",
      "5.83e-01   2.798e+02     3.413e+03   6.484e+03   9.90e+03   4.40e+02   2.31e-01     20.72\n",
      "6.66e-01   2.965e+02     3.880e+03   6.895e+03   1.08e+04   4.40e+02   2.87e-01     21.01\n",
      "7.50e-01   3.115e+02     4.336e+03   7.262e+03   1.16e+04   4.41e+02   3.47e-01     21.36\n",
      "8.33e-01   3.251e+02     4.782e+03   7.595e+03   1.24e+04   4.41e+02   4.11e-01     21.77\n",
      "9.16e-01   3.376e+02     5.218e+03   7.897e+03   1.31e+04   4.41e+02   4.79e-01     22.25\n",
      "1.00e+00   3.492e+02     5.645e+03   8.173e+03   1.38e+04   4.41e+02   5.50e-01     22.80\n",
      "1.08e+00   3.599e+02     6.063e+03   8.427e+03   1.45e+04   4.42e+02   6.25e-01     23.42\n",
      "1.17e+00   3.699e+02     6.472e+03   8.661e+03   1.51e+04   4.42e+02   7.02e-01     24.12\n",
      "1.25e+00   3.792e+02     6.873e+03   8.878e+03   1.58e+04   4.43e+02   7.82e-01     24.91\n",
      "1.33e+00   3.880e+02     7.266e+03   9.078e+03   1.63e+04   4.43e+02   8.64e-01     25.77\n",
      "1.42e+00   3.964e+02     7.652e+03   9.265e+03   1.69e+04   4.44e+02   9.49e-01     26.72\n",
      "1.50e+00   4.043e+02     8.030e+03   9.438e+03   1.75e+04   4.44e+02   1.04e+00     27.76\n",
      "1.58e+00   4.117e+02     8.401e+03   9.600e+03   1.80e+04   4.45e+02   1.13e+00     28.88\n",
      "1.67e+00   4.189e+02     8.766e+03   9.750e+03   1.85e+04   4.46e+02   1.22e+00     30.10\n",
      "1.75e+00   4.257e+02     9.124e+03   9.890e+03   1.90e+04   4.47e+02   1.31e+00     31.41\n",
      "1.83e+00   4.322e+02     9.476e+03   1.002e+04   1.95e+04   4.48e+02   1.40e+00     32.81\n",
      "1.92e+00   4.385e+02     9.822e+03   1.014e+04   2.00e+04   4.49e+02   1.50e+00     34.31\n",
      "2.00e+00   4.444e+02     1.016e+04   1.025e+04   2.04e+04   4.50e+02   1.60e+00     35.90\n",
      "2.08e+00   4.502e+02     1.050e+04   1.036e+04   2.09e+04   4.51e+02   1.69e+00     37.60\n",
      "2.17e+00   4.558e+02     1.083e+04   1.045e+04   2.13e+04   4.52e+02   1.79e+00     39.39\n",
      "2.25e+00   4.611e+02     1.115e+04   1.054e+04   2.17e+04   4.53e+02   1.89e+00     41.29\n",
      "2.33e+00   4.663e+02     1.147e+04   1.062e+04   2.21e+04   4.54e+02   2.00e+00     43.28\n",
      "2.42e+00   4.713e+02     1.178e+04   1.070e+04   2.25e+04   4.55e+02   2.10e+00     45.38\n",
      "2.50e+00   4.761e+02     1.209e+04   1.077e+04   2.29e+04   4.57e+02   2.20e+00     47.58\n",
      "2.58e+00   4.808e+02     1.239e+04   1.083e+04   2.32e+04   4.58e+02   2.30e+00     49.88\n",
      "2.67e+00   4.853e+02     1.269e+04   1.089e+04   2.36e+04   4.60e+02   2.40e+00     52.28\n",
      "2.75e+00   4.897e+02     1.299e+04   1.094e+04   2.39e+04   4.61e+02   2.51e+00     54.79\n",
      "2.83e+00   4.940e+02     1.328e+04   1.098e+04   2.43e+04   4.63e+02   2.61e+00     57.40\n",
      "2.92e+00   4.982e+02     1.357e+04   1.102e+04   2.46e+04   4.64e+02   2.72e+00     60.12\n",
      "3.00e+00   5.022e+02     1.385e+04   1.105e+04   2.49e+04   4.66e+02   2.82e+00     62.94\n",
      "3.08e+00   5.062e+02     1.412e+04   1.108e+04   2.52e+04   4.68e+02   2.92e+00     65.86\n",
      "3.17e+00   5.100e+02     1.440e+04   1.110e+04   2.55e+04   4.69e+02   3.03e+00     68.88\n",
      "3.25e+00   5.138e+02     1.467e+04   1.112e+04   2.58e+04   4.71e+02   3.13e+00     72.01\n",
      "3.33e+00   5.174e+02     1.493e+04   1.114e+04   2.61e+04   4.73e+02   3.23e+00     75.24\n",
      "3.42e+00   5.210e+02     1.519e+04   1.114e+04   2.63e+04   4.75e+02   3.33e+00     78.58\n",
      "3.50e+00   5.245e+02     1.545e+04   1.115e+04   2.66e+04   4.76e+02   3.43e+00     82.01\n",
      "3.58e+00   5.279e+02     1.570e+04   1.115e+04   2.68e+04   4.78e+02   3.54e+00     85.54\n",
      "3.67e+00   5.312e+02     1.595e+04   1.114e+04   2.71e+04   4.80e+02   3.64e+00     89.18\n",
      "3.75e+00   5.345e+02     1.619e+04   1.113e+04   2.73e+04   4.82e+02   3.74e+00     92.92\n",
      "3.83e+00   5.376e+02     1.643e+04   1.112e+04   2.75e+04   4.84e+02   3.83e+00     96.75\n",
      "3.92e+00   5.408e+02     1.666e+04   1.110e+04   2.78e+04   4.86e+02   3.93e+00     100.68\n",
      "4.00e+00   5.438e+02     1.689e+04   1.108e+04   2.80e+04   4.88e+02   4.03e+00     104.71\n",
      "4.08e+00   5.468e+02     1.712e+04   1.105e+04   2.82e+04   4.90e+02   4.13e+00     108.84\n",
      "4.16e+00   5.498e+02     1.734e+04   1.102e+04   2.84e+04   4.92e+02   4.22e+00     113.06\n",
      "4.25e+00   5.526e+02     1.756e+04   1.099e+04   2.86e+04   4.94e+02   4.32e+00     117.38\n",
      "4.33e+00   5.555e+02     1.778e+04   1.095e+04   2.87e+04   4.96e+02   4.41e+00     121.79\n",
      "4.41e+00   5.582e+02     1.799e+04   1.091e+04   2.89e+04   4.98e+02   4.50e+00     126.30\n",
      "4.50e+00   5.610e+02     1.819e+04   1.087e+04   2.91e+04   5.00e+02   4.60e+00     130.89\n",
      "4.58e+00   5.636e+02     1.839e+04   1.082e+04   2.92e+04   5.02e+02   4.69e+00     135.58\n",
      "4.66e+00   5.663e+02     1.859e+04   1.077e+04   2.94e+04   5.04e+02   4.77e+00     140.35\n",
      "4.75e+00   5.689e+02     1.878e+04   1.071e+04   2.95e+04   5.06e+02   4.86e+00     145.22\n",
      "4.83e+00   5.714e+02     1.896e+04   1.065e+04   2.96e+04   5.08e+02   4.95e+00     150.17\n",
      "4.91e+00   5.739e+02     1.914e+04   1.059e+04   2.97e+04   5.10e+02   5.03e+00     155.20\n",
      "5.00e+00   5.764e+02     1.932e+04   1.053e+04   2.98e+04   5.13e+02   5.12e+00     160.32\n",
      "5.08e+00   5.788e+02     1.949e+04   1.046e+04   3.00e+04   5.15e+02   5.20e+00     165.52\n",
      "5.16e+00   5.811e+02     1.966e+04   1.039e+04   3.00e+04   5.17e+02   5.28e+00     170.80\n",
      "5.25e+00   5.835e+02     1.982e+04   1.032e+04   3.01e+04   5.19e+02   5.36e+00     176.16\n",
      "5.33e+00   5.858e+02     1.997e+04   1.024e+04   3.02e+04   5.21e+02   5.44e+00     181.60\n",
      "5.41e+00   5.881e+02     2.012e+04   1.016e+04   3.03e+04   5.23e+02   5.51e+00     187.11\n",
      "5.50e+00   5.903e+02     2.027e+04   1.008e+04   3.03e+04   5.25e+02   5.59e+00     192.70\n",
      "5.58e+00   5.925e+02     2.040e+04   9.995e+03   3.04e+04   5.27e+02   5.66e+00     198.36\n",
      "5.66e+00   5.947e+02     2.054e+04   9.908e+03   3.04e+04   5.29e+02   5.73e+00     204.09\n",
      "5.75e+00   5.968e+02     2.066e+04   9.818e+03   3.05e+04   5.31e+02   5.80e+00     209.89\n",
      "5.83e+00   5.989e+02     2.078e+04   9.726e+03   3.05e+04   5.33e+02   5.87e+00     215.76\n",
      "5.91e+00   6.010e+02     2.090e+04   9.631e+03   3.05e+04   5.35e+02   5.93e+00     221.69\n",
      "6.00e+00   6.031e+02     2.100e+04   9.534e+03   3.05e+04   5.37e+02   5.99e+00     227.68\n",
      "6.08e+00   6.051e+02     2.110e+04   9.435e+03   3.05e+04   5.40e+02   6.05e+00     233.73\n",
      "6.16e+00   6.071e+02     2.119e+04   9.334e+03   3.05e+04   5.42e+02   6.11e+00     239.84\n",
      "6.25e+00   6.091e+02     2.128e+04   9.230e+03   3.05e+04   5.44e+02   6.16e+00     246.00\n",
      "6.33e+00   6.110e+02     2.136e+04   9.125e+03   3.05e+04   5.46e+02   6.22e+00     252.22\n",
      "6.41e+00   6.129e+02     2.143e+04   9.018e+03   3.04e+04   5.48e+02   6.27e+00     258.48\n",
      "6.50e+00   6.148e+02     2.149e+04   8.908e+03   3.04e+04   5.50e+02   6.31e+00     264.79\n",
      "6.58e+00   6.167e+02     2.155e+04   8.797e+03   3.03e+04   5.52e+02   6.36e+00     271.15\n",
      "6.66e+00   6.185e+02     2.160e+04   8.685e+03   3.03e+04   5.55e+02   6.40e+00     277.55\n",
      "6.75e+00   6.204e+02     2.163e+04   8.570e+03   3.02e+04   5.57e+02   6.44e+00     283.98\n",
      "6.83e+00   6.222e+02     2.167e+04   8.455e+03   3.01e+04   5.59e+02   6.47e+00     290.46\n",
      "6.91e+00   6.240e+02     2.169e+04   8.337e+03   3.00e+04   5.61e+02   6.50e+00     296.96\n",
      "7.00e+00   6.257e+02     2.170e+04   8.219e+03   2.99e+04   5.64e+02   6.53e+00     303.49\n",
      "7.08e+00   6.275e+02     2.171e+04   8.099e+03   2.98e+04   5.66e+02   6.56e+00     310.05\n",
      "7.16e+00   6.292e+02     2.171e+04   7.978e+03   2.97e+04   5.68e+02   6.58e+00     316.63\n",
      "7.25e+00   6.309e+02     2.170e+04   7.856e+03   2.96e+04   5.71e+02   6.60e+00     323.23\n",
      "7.33e+00   6.326e+02     2.168e+04   7.734e+03   2.94e+04   5.73e+02   6.61e+00     329.84\n",
      "7.41e+00   6.342e+02     2.165e+04   7.610e+03   2.93e+04   5.76e+02   6.62e+00     336.46\n",
      "7.50e+00   6.359e+02     2.161e+04   7.485e+03   2.91e+04   5.78e+02   6.63e+00     343.09\n",
      "7.58e+00   6.375e+02     2.156e+04   7.360e+03   2.89e+04   5.81e+02   6.64e+00     349.73\n",
      "7.66e+00   6.391e+02     2.150e+04   7.235e+03   2.87e+04   5.84e+02   6.64e+00     356.37\n",
      "7.75e+00   6.407e+02     2.144e+04   7.109e+03   2.85e+04   5.86e+02   6.63e+00     363.00\n",
      "7.83e+00   6.423e+02     2.136e+04   6.982e+03   2.83e+04   5.89e+02   6.62e+00     369.62\n",
      "7.91e+00   6.439e+02     2.128e+04   6.856e+03   2.81e+04   5.92e+02   6.61e+00     376.24\n",
      "8.00e+00   6.454e+02     2.118e+04   6.729e+03   2.79e+04   5.95e+02   6.60e+00     382.84\n",
      "8.08e+00   6.469e+02     2.108e+04   6.602e+03   2.77e+04   5.98e+02   6.58e+00     389.41\n",
      "8.16e+00   6.484e+02     2.097e+04   6.476e+03   2.74e+04   6.01e+02   6.56e+00     395.97\n",
      "8.25e+00   6.499e+02     2.085e+04   6.349e+03   2.72e+04   6.04e+02   6.53e+00     402.50\n",
      "8.33e+00   6.514e+02     2.072e+04   6.223e+03   2.69e+04   6.07e+02   6.50e+00     409.00\n",
      "8.41e+00   6.529e+02     2.058e+04   6.097e+03   2.67e+04   6.10e+02   6.47e+00     415.47\n",
      "8.50e+00   6.543e+02     2.044e+04   5.972e+03   2.64e+04   6.14e+02   6.43e+00     421.90\n",
      "8.58e+00   6.558e+02     2.028e+04   5.847e+03   2.61e+04   6.17e+02   6.39e+00     428.29\n",
      "8.66e+00   6.572e+02     2.012e+04   5.723e+03   2.58e+04   6.20e+02   6.34e+00     434.63\n",
      "8.75e+00   6.586e+02     1.995e+04   5.600e+03   2.55e+04   6.24e+02   6.30e+00     440.93\n",
      "8.83e+00   6.600e+02     1.977e+04   5.477e+03   2.52e+04   6.28e+02   6.25e+00     447.17\n",
      "8.91e+00   6.614e+02     1.958e+04   5.356e+03   2.49e+04   6.31e+02   6.19e+00     453.37\n",
      "9.00e+00   6.628e+02     1.939e+04   5.236e+03   2.46e+04   6.35e+02   6.13e+00     459.50\n",
      "9.08e+00   6.641e+02     1.919e+04   5.116e+03   2.43e+04   6.39e+02   6.07e+00     465.58\n",
      "9.16e+00   6.655e+02     1.898e+04   4.998e+03   2.40e+04   6.43e+02   6.01e+00     471.59\n",
      "9.25e+00   6.668e+02     1.877e+04   4.881e+03   2.36e+04   6.47e+02   5.95e+00     477.54\n",
      "9.33e+00   6.682e+02     1.855e+04   4.766e+03   2.33e+04   6.50e+02   5.88e+00     483.41\n",
      "9.41e+00   6.695e+02     1.832e+04   4.652e+03   2.30e+04   6.55e+02   5.81e+00     489.22\n",
      "9.50e+00   6.708e+02     1.809e+04   4.539e+03   2.26e+04   6.59e+02   5.74e+00     494.96\n",
      "9.58e+00   6.721e+02     1.786e+04   4.428e+03   2.23e+04   6.63e+02   5.66e+00     500.63\n",
      "9.66e+00   6.734e+02     1.762e+04   4.318e+03   2.19e+04   6.67e+02   5.59e+00     506.21\n",
      "9.75e+00   6.746e+02     1.737e+04   4.210e+03   2.16e+04   6.71e+02   5.51e+00     511.72\n",
      "9.83e+00   6.759e+02     1.713e+04   4.104e+03   2.12e+04   6.75e+02   5.43e+00     517.16\n",
      "9.91e+00   6.771e+02     1.687e+04   3.999e+03   2.09e+04   6.80e+02   5.35e+00     522.51\n",
      "1.00e+01   6.784e+02     1.662e+04   3.896e+03   2.05e+04   6.84e+02   5.27e+00     527.78\n",
      "1.01e+01   6.796e+02     1.636e+04   3.795e+03   2.02e+04   6.89e+02   5.19e+00     532.97\n",
      "1.02e+01   6.808e+02     1.610e+04   3.696e+03   1.98e+04   6.93e+02   5.11e+00     538.07\n",
      "1.02e+01   6.820e+02     1.584e+04   3.599e+03   1.94e+04   6.97e+02   5.02e+00     543.09\n",
      "1.03e+01   6.832e+02     1.558e+04   3.503e+03   1.91e+04   7.02e+02   4.94e+00     548.03\n",
      "1.04e+01   6.844e+02     1.531e+04   3.409e+03   1.87e+04   7.06e+02   4.85e+00     552.88\n",
      "1.05e+01   6.856e+02     1.505e+04   3.318e+03   1.84e+04   7.11e+02   4.77e+00     557.65\n",
      "1.06e+01   6.868e+02     1.478e+04   3.228e+03   1.80e+04   7.15e+02   4.68e+00     562.33\n",
      "1.07e+01   6.879e+02     1.452e+04   3.140e+03   1.77e+04   7.20e+02   4.60e+00     566.93\n",
      "1.07e+01   6.891e+02     1.425e+04   3.054e+03   1.73e+04   7.25e+02   4.51e+00     571.44\n",
      "1.08e+01   6.902e+02     1.398e+04   2.969e+03   1.70e+04   7.29e+02   4.43e+00     575.87\n",
      "1.09e+01   6.914e+02     1.372e+04   2.887e+03   1.66e+04   7.34e+02   4.34e+00     580.21\n",
      "1.10e+01   6.925e+02     1.345e+04   2.807e+03   1.63e+04   7.38e+02   4.26e+00     584.47\n",
      "1.11e+01   6.936e+02     1.319e+04   2.728e+03   1.59e+04   7.43e+02   4.18e+00     588.65\n",
      "1.12e+01   6.947e+02     1.293e+04   2.652e+03   1.56e+04   7.47e+02   4.09e+00     592.74\n",
      "1.12e+01   6.958e+02     1.267e+04   2.577e+03   1.52e+04   7.52e+02   4.01e+00     596.75\n",
      "1.13e+01   6.969e+02     1.241e+04   2.504e+03   1.49e+04   7.56e+02   3.93e+00     600.68\n",
      "1.14e+01   6.980e+02     1.216e+04   2.433e+03   1.46e+04   7.61e+02   3.85e+00     604.53\n",
      "1.15e+01   6.991e+02     1.190e+04   2.363e+03   1.43e+04   7.63e+02   3.78e+00     608.31\n",
      "1.16e+01   7.001e+02     1.165e+04   2.296e+03   1.39e+04   7.66e+02   3.71e+00     612.01\n",
      "1.17e+01   7.012e+02     1.140e+04   2.230e+03   1.36e+04   7.69e+02   3.63e+00     615.65\n",
      "1.17e+01   7.023e+02     1.115e+04   2.165e+03   1.33e+04   7.72e+02   3.56e+00     619.21\n",
      "1.18e+01   7.033e+02     1.091e+04   2.102e+03   1.30e+04   7.75e+02   3.49e+00     622.70\n",
      "1.19e+01   7.043e+02     1.067e+04   2.041e+03   1.27e+04   7.79e+02   3.42e+00     626.12\n",
      "1.20e+01   7.054e+02     1.043e+04   1.982e+03   1.24e+04   7.82e+02   3.35e+00     629.46\n",
      "1.21e+01   7.064e+02     1.019e+04   1.924e+03   1.21e+04   7.86e+02   3.27e+00     632.74\n",
      "1.22e+01   7.074e+02     9.961e+03   1.867e+03   1.18e+04   7.90e+02   3.20e+00     635.94\n",
      "1.22e+01   7.084e+02     9.733e+03   1.812e+03   1.15e+04   7.93e+02   3.13e+00     639.07\n",
      "1.23e+01   7.094e+02     9.508e+03   1.759e+03   1.13e+04   7.97e+02   3.06e+00     642.14\n",
      "1.24e+01   7.104e+02     9.288e+03   1.708e+03   1.10e+04   8.02e+02   2.99e+00     645.13\n",
      "1.25e+01   7.114e+02     9.072e+03   1.658e+03   1.07e+04   8.06e+02   2.92e+00     648.06\n",
      "1.26e+01   7.124e+02     8.861e+03   1.609e+03   1.05e+04   8.11e+02   2.86e+00     650.91\n",
      "1.27e+01   7.134e+02     8.654e+03   1.562e+03   1.02e+04   8.15e+02   2.79e+00     653.70\n",
      "1.27e+01   7.144e+02     8.451e+03   1.517e+03   9.97e+03   8.20e+02   2.72e+00     656.43\n",
      "1.28e+01   7.153e+02     8.253e+03   1.473e+03   9.73e+03   8.25e+02   2.66e+00     659.08\n",
      "1.29e+01   7.163e+02     8.061e+03   1.430e+03   9.49e+03   8.31e+02   2.59e+00     661.68\n",
      "1.30e+01   7.173e+02     7.873e+03   1.389e+03   9.26e+03   8.36e+02   2.53e+00     664.21\n",
      "1.31e+01   7.182e+02     7.690e+03   1.350e+03   9.04e+03   8.42e+02   2.47e+00     666.68\n",
      "1.32e+01   7.191e+02     7.512e+03   1.312e+03   8.82e+03   8.48e+02   2.41e+00     669.08\n",
      "1.32e+01   7.201e+02     7.339e+03   1.275e+03   8.61e+03   8.55e+02   2.35e+00     671.43\n",
      "1.33e+01   7.210e+02     7.171e+03   1.239e+03   8.41e+03   8.61e+02   2.29e+00     673.72\n",
      "1.34e+01   7.219e+02     7.008e+03   1.205e+03   8.21e+03   8.68e+02   2.23e+00     675.95\n",
      "1.35e+01   7.229e+02     6.851e+03   1.173e+03   8.02e+03   8.76e+02   2.17e+00     678.12\n",
      "1.36e+01   7.238e+02     6.698e+03   1.141e+03   7.84e+03   8.83e+02   2.12e+00     680.24\n",
      "1.37e+01   7.247e+02     6.550e+03   1.111e+03   7.66e+03   8.91e+02   2.07e+00     682.31\n",
      "1.37e+01   7.256e+02     6.408e+03   1.082e+03   7.49e+03   8.99e+02   2.01e+00     684.32\n",
      "1.38e+01   7.265e+02     6.271e+03   1.054e+03   7.32e+03   9.08e+02   1.96e+00     686.28\n",
      "1.39e+01   7.274e+02     6.138e+03   1.027e+03   7.17e+03   9.17e+02   1.91e+00     688.19\n",
      "1.40e+01   7.283e+02     6.011e+03   1.001e+03   7.01e+03   9.27e+02   1.86e+00     690.05\n",
      "1.41e+01   7.291e+02     5.888e+03   9.770e+02   6.87e+03   9.37e+02   1.81e+00     691.87\n",
      "1.42e+01   7.300e+02     5.771e+03   9.536e+02   6.72e+03   9.48e+02   1.77e+00     693.63\n",
      "1.42e+01   7.309e+02     5.658e+03   9.312e+02   6.59e+03   9.59e+02   1.72e+00     695.36\n",
      "1.43e+01   7.317e+02     5.550e+03   9.098e+02   6.46e+03   9.71e+02   1.68e+00     697.03\n",
      "1.44e+01   7.326e+02     5.446e+03   8.894e+02   6.34e+03   9.83e+02   1.63e+00     698.66\n",
      "1.45e+01   7.335e+02     5.347e+03   8.700e+02   6.22e+03   9.97e+02   1.59e+00     700.25\n",
      "1.46e+01   7.343e+02     5.253e+03   8.515e+02   6.10e+03   1.01e+03   1.55e+00     701.80\n",
      "1.47e+01   7.352e+02     5.163e+03   8.340e+02   6.00e+03   1.03e+03   1.51e+00     703.31\n",
      "1.47e+01   7.360e+02     5.078e+03   8.173e+02   5.90e+03   1.04e+03   1.47e+00     704.78\n",
      "1.48e+01   7.368e+02     4.997e+03   8.015e+02   5.80e+03   1.06e+03   1.43e+00     706.21\n",
      "1.49e+01   7.377e+02     4.921e+03   7.866e+02   5.71e+03   1.07e+03   1.39e+00     707.60\n",
      "1.50e+01   7.385e+02     4.849e+03   7.725e+02   5.62e+03   1.09e+03   1.36e+00     708.96\n",
      "1.51e+01   7.393e+02     4.781e+03   7.592e+02   5.54e+03   1.11e+03   1.32e+00     710.28\n",
      "1.52e+01   7.401e+02     4.717e+03   7.467e+02   5.46e+03   1.13e+03   1.28e+00     711.56\n",
      "1.52e+01   7.410e+02     4.658e+03   7.350e+02   5.39e+03   1.16e+03   1.25e+00     712.81\n",
      "1.53e+01   7.418e+02     4.603e+03   7.240e+02   5.33e+03   1.18e+03   1.21e+00     714.02\n",
      "1.54e+01   7.426e+02     4.551e+03   7.138e+02   5.27e+03   1.21e+03   1.18e+00     715.20\n",
      "1.55e+01   7.434e+02     4.504e+03   7.043e+02   5.21e+03   1.24e+03   1.15e+00     716.35\n",
      "1.56e+01   7.442e+02     4.461e+03   6.955e+02   5.16e+03   1.27e+03   1.12e+00     717.47\n",
      "1.57e+01   7.450e+02     4.422e+03   6.875e+02   5.11e+03   1.30e+03   1.08e+00     718.55\n",
      "1.57e+01   7.458e+02     4.387e+03   6.801e+02   5.07e+03   1.33e+03   1.05e+00     719.60\n",
      "1.58e+01   7.465e+02     4.356e+03   6.734e+02   5.03e+03   1.37e+03   1.02e+00     720.62\n",
      "1.59e+01   7.473e+02     4.329e+03   6.674e+02   5.00e+03   1.41e+03   9.88e-01     721.61\n",
      "1.60e+01   7.481e+02     4.305e+03   6.621e+02   4.97e+03   1.46e+03   9.57e-01     722.57\n",
      "1.61e+01   7.489e+02     4.286e+03   6.575e+02   4.94e+03   1.51e+03   9.27e-01     723.49\n"
     ]
    }
   ],
   "source": [
    "print(\"Time[min]  theta_g[°C]   h_net_r     h_net_c     h_net_d    ca   delta_theta_at  theta_at[°C]\")\n",
    "while (theta_a_cr > theta_at):\n",
    "    # Specific heat of steel, ca:\n",
    "    if 20 <= theta_at and theta_at < 600:\n",
    "        ca = 425 + 0.773 * theta_at - 0.00169 * theta_at**2 + 0.00000222 * theta_at**3\n",
    "    if 600 <= theta_at and theta_at < 735:\n",
    "        ca = 666 + (13002 / (738 - theta_at))\n",
    "    if 735 <= theta_at and theta_at < 900:\n",
    "        ca = 545 + 17820 / (theta_at - 731)\n",
    "    if 900 <= theta_at and theta_at < 1200:\n",
    "        ca = 650\n",
    "    \n",
    "    # Heat transfer coefficient:\n",
    "    alpha_c = 25 #[W/m^2/°C]\n",
    "    # Heat flux (convection), gas temperature, for nominal curve (ISO834):\n",
    "    \n",
    "    theta_g = 20 + 345 * math.log((8 * t + 1),10)\n",
    "    # Radiating temperature, can be taken equal to the gas temperature\n",
    "    theta_r = theta_g\n",
    "    # Surface temperature of member\n",
    "    theta_m = theta_at\n",
    "    # Heat flux\n",
    "    h_net_c = alpha_c * (theta_g - theta_m)\n",
    "    # PHI...configuration factor, usually PHI = 1.0\n",
    "    PHI = 1\n",
    "    # epsilon_f....emisivity of fire, usually, epsilon_f = 1.0\n",
    "    epsilon_f = 1\n",
    "    # epsilon_m.... emissivity of material, 0.7 for standard steel elements\n",
    "    epsilon_m = 0.7\n",
    "    # sigma....Stephan-Boltzman constant [W/m^2/K^4]\n",
    "    sigma = 0.0000000567\n",
    "    h_net_r = PHI * epsilon_m * epsilon_f * sigma * ((theta_r + 273)**4 - (theta_m + 273)**4)\n",
    "    h_net_d = h_net_c + h_net_r\n",
    "    # temperature increment\n",
    "    delta_theta_at = 0.9 * Am_by_V_b * h_net_d * t / (ca * rho)\n",
    "    theta_at = theta_at + delta_theta_at \n",
    "    print(\"%2.2e\" %  t + \"   \" + \"%2.3e\" %  theta_g + \"     \" + \"%2.3e\" %  h_net_r + \"   \" + \"%2.3e\" %  h_net_c + \"   \" + \"%2.2e\" %  h_net_d + \"   \" + \"%2.2e\" %  ca  + \"   \" + \"%2.2e\" %  delta_theta_at + \"     \" + \"%2.2f\" %  theta_at)\n",
    "    t = t + delta_t\n",
    "    \n",
    "\n",
    "    "
   ]
  },
  {
   "cell_type": "code",
   "execution_count": 29,
   "metadata": {},
   "outputs": [
    {
     "name": "stdout",
     "output_type": "stream",
     "text": [
      "\n",
      "Time necessary to reach critical temperature in steel beam is 16.16 minutes.\n"
     ]
    }
   ],
   "source": [
    "print(\"\")\n",
    "print(\"Time necessary to reach critical temperature in steel beam is \" + str(\"%2.2f\" % t) + \" minutes.\" )"
   ]
  }
 ],
 "metadata": {
  "hide_input": false,
  "kernelspec": {
   "display_name": "Python 3 (ipykernel)",
   "language": "python",
   "name": "python3"
  },
  "language_info": {
   "codemirror_mode": {
    "name": "ipython",
    "version": 3
   },
   "file_extension": ".py",
   "mimetype": "text/x-python",
   "name": "python",
   "nbconvert_exporter": "python",
   "pygments_lexer": "ipython3",
   "version": "3.8.18"
  },
  "varInspector": {
   "cols": {
    "lenName": 16,
    "lenType": 16,
    "lenVar": 40
   },
   "kernels_config": {
    "python": {
     "delete_cmd_postfix": "",
     "delete_cmd_prefix": "del ",
     "library": "var_list.py",
     "varRefreshCmd": "print(var_dic_list())"
    },
    "r": {
     "delete_cmd_postfix": ") ",
     "delete_cmd_prefix": "rm(",
     "library": "var_list.r",
     "varRefreshCmd": "cat(var_dic_list()) "
    }
   },
   "types_to_exclude": [
    "module",
    "function",
    "builtin_function_or_method",
    "instance",
    "_Feature"
   ],
   "window_display": false
  }
 },
 "nbformat": 4,
 "nbformat_minor": 4
}
